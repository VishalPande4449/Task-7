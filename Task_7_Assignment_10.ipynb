{
  "nbformat": 4,
  "nbformat_minor": 0,
  "metadata": {
    "colab": {
      "name": "Task 7 Assignment 10.ipynb",
      "provenance": [],
      "collapsed_sections": []
    },
    "kernelspec": {
      "name": "python3",
      "display_name": "Python 3"
    },
    "language_info": {
      "name": "python"
    }
  },
  "cells": [
    {
      "cell_type": "markdown",
      "source": [
        "# Assignment 10"
      ],
      "metadata": {
        "id": "E7GTX8wtUmuf"
      }
    },
    {
      "cell_type": "markdown",
      "source": [
        "You are provided with a dataset from USA Forensic Science Service which has description of 6 types of glass; defined in terms of their oxide content (i.e. Na, Fe, K, etc). Your task is to use K-Nearest Neighbor (KNN) classifier to classify the glasses.\n",
        "\n",
        "The original dataset is available at (https://archive.ics.uci.edu/ml/datasets/glass+identification). For detailed description on the attributes of the dataset, please refer to the original link of the dataset in the UCI ML repository.\n",
        "\n",
        "But the shared drive folder have the dataset for your convenience perform exploratory data analysis on the dataset using Python Pandas, including dropping irrelevant fields for predicted values, and standardization of each attribute.\n",
        "\n",
        "Following data cleaning, two Scikit-Learn KNN models should be created for two different distance metrics: Square Euclidean and Manhattan distance. The performance of the two models using different distance metrics should be compared in terms of accuracy to the test data and Scikit-Learn Classification Report."
      ],
      "metadata": {
        "id": "QsvkdhaMUqEl"
      }
    },
    {
      "cell_type": "markdown",
      "source": [
        "# Importing Packages"
      ],
      "metadata": {
        "id": "GYLx24KfU3XZ"
      }
    },
    {
      "cell_type": "code",
      "execution_count": null,
      "metadata": {
        "id": "wbR5JBNRSi6I"
      },
      "outputs": [],
      "source": [
        "import matplotlib.pyplot as plt\n",
        "import pandas as pd\n",
        "import numpy as np\n",
        "from sklearn.neighbors import KNeighborsClassifier, KNeighborsRegressor\n",
        "import seaborn as sns\n",
        "#from sklearn import datasets, neighbors\n",
        "from sklearn.linear_model import LogisticRegression\n",
        "from mlxtend.plotting import plot_decision_regions\n",
        "from sklearn.model_selection import cross_val_score # import all the functions reqd for cross validation\n",
        "from sklearn.model_selection import train_test_split\n",
        "from sklearn.metrics import roc_auc_score\n",
        "#for scaling the data\n",
        "from sklearn.preprocessing import StandardScaler\n",
        "#for distances\n",
        "from sklearn.metrics import classification_report\n",
        "from scipy.spatial import distance"
      ]
    },
    {
      "cell_type": "code",
      "source": [
        "df = pd.read_csv('/content/trainKNN.csv')\n",
        "df.shape"
      ],
      "metadata": {
        "id": "gGafL399VHA3"
      },
      "execution_count": null,
      "outputs": []
    },
    {
      "cell_type": "markdown",
      "source": [
        "# Website for given dataset gives \n",
        "\n",
        "Attribute Information:"
      ],
      "metadata": {
        "id": "zV8UZVvkUljX"
      }
    },
    {
      "cell_type": "markdown",
      "source": [
        "1. Id number: 1 to 214\n",
        "2. RI: refractive index\n",
        "3. Na: Sodium (unit measurement: weight percent in corresponding oxide, as are attributes 4-10)\n",
        "4. Mg: Magnesium\n",
        "5. Al: Aluminum\n",
        "6. Si: Silicon\n",
        "7. K: Potassium\n",
        "8. Ca: Calcium\n",
        "9. Ba: Barium\n",
        "10. Fe: Iron\n",
        "11. Type of glass: (class attribute)\n",
        "1 building_windows_float_processed\n",
        "2 building_windows_non_float_processed\n",
        "3 vehicle_windows_float_processed\n",
        "4 vehicle_windows_non_float_processed (none in this database)\n",
        "5 containers\n",
        "6 tableware\n",
        "7 headlamps"
      ],
      "metadata": {
        "id": "kq9PUBR2Z3jc"
      }
    },
    {
      "cell_type": "code",
      "source": [
        "attributes = ['Id','RI','Na','Mg','Al','Si','K','Ca','Ba','Fe','Type_Of_Glass']\n",
        "df.columns = attributes\n",
        "df.head()"
      ],
      "metadata": {
        "id": "xvn3qodXZ2_A"
      },
      "execution_count": null,
      "outputs": []
    },
    {
      "cell_type": "markdown",
      "source": [
        "Dropping the Id column"
      ],
      "metadata": {
        "id": "w0MGgsFAgWIf"
      }
    },
    {
      "cell_type": "code",
      "source": [
        "df=df.drop(['Id'], axis=1)\n",
        "df.head()"
      ],
      "metadata": {
        "id": "mfBPVCaigXza"
      },
      "execution_count": null,
      "outputs": []
    },
    {
      "cell_type": "markdown",
      "source": [
        "Analyzing the data"
      ],
      "metadata": {
        "id": "cpC0adjKgebk"
      }
    },
    {
      "cell_type": "code",
      "source": [
        "df.isnull().sum()"
      ],
      "metadata": {
        "id": "A8mZCCyAggVj"
      },
      "execution_count": null,
      "outputs": []
    },
    {
      "cell_type": "code",
      "source": [
        "df = df.drop_duplicates()"
      ],
      "metadata": {
        "id": "n7peYjy9giN3"
      },
      "execution_count": null,
      "outputs": []
    },
    {
      "cell_type": "code",
      "source": [
        "df.shape"
      ],
      "metadata": {
        "id": "2aByIcsigjk7"
      },
      "execution_count": null,
      "outputs": []
    },
    {
      "cell_type": "markdown",
      "source": [
        "Clearly it shows that one duplicate row.\n",
        "\n",
        "Also no encoding needed."
      ],
      "metadata": {
        "id": "UaJR1oGmgmuj"
      }
    },
    {
      "cell_type": "markdown",
      "source": [
        "**Checking if Outliers exist or not**"
      ],
      "metadata": {
        "id": "aT6B7XgEgtL8"
      }
    },
    {
      "cell_type": "code",
      "source": [
        "df.describe().T"
      ],
      "metadata": {
        "id": "apcyWB4RgqUW"
      },
      "execution_count": null,
      "outputs": []
    },
    {
      "cell_type": "code",
      "source": [
        "for k, v in df.items():\n",
        "  q1 = v.quantile(0.25)\n",
        "  q3 = v.quantile(0.75)\n",
        "  irq = q3 - q1\n",
        "  v_col = v[(v <= q1 - 1.5 * irq) | (v >= q3 + 1.5 * irq)]\n",
        "  perc = np.shape(v_col)[0] * 100.0 / np.shape(df)[0]\n",
        "  print(\"Column %s outliers = %.2f%%\" % (k, perc))"
      ],
      "metadata": {
        "id": "CpomjVJoikBk"
      },
      "execution_count": null,
      "outputs": []
    },
    {
      "cell_type": "code",
      "source": [
        "plt.figure(figsize = (16, 12))\n",
        "sns.heatmap(df.corr(), annot = True, fmt = '.2%')\n",
        "# plt.savefig('../images/features_correlation.png')"
      ],
      "metadata": {
        "id": "b5G32IN6pIKy"
      },
      "execution_count": null,
      "outputs": []
    },
    {
      "cell_type": "markdown",
      "source": [
        "**Better correlatin for Type_Of_Glass with Al, Ba and Na.**"
      ],
      "metadata": {
        "id": "VsFYagqzpNVQ"
      }
    },
    {
      "cell_type": "markdown",
      "source": [
        "# kNN model"
      ],
      "metadata": {
        "id": "7hw-p83hpO_-"
      }
    },
    {
      "cell_type": "code",
      "source": [
        "b = []\n",
        "for i in df.keys():\n",
        "  b.append(i)\n",
        "print(b)"
      ],
      "metadata": {
        "id": "_zoiFeAypSXo"
      },
      "execution_count": null,
      "outputs": []
    },
    {
      "cell_type": "code",
      "source": [
        "b.remove('Type_Of_Glass')\n",
        "print(b)"
      ],
      "metadata": {
        "id": "q69RmOvxpUFv"
      },
      "execution_count": null,
      "outputs": []
    },
    {
      "cell_type": "markdown",
      "source": [
        "**Now we are taking the feature set as b**"
      ],
      "metadata": {
        "id": "2pJ0vRsmpWk4"
      }
    },
    {
      "cell_type": "code",
      "source": [
        "X = df[b].values#array of features\n",
        "y = df['Type_Of_Glass'].values"
      ],
      "metadata": {
        "id": "JyZguzc-pZb7"
      },
      "execution_count": null,
      "outputs": []
    },
    {
      "cell_type": "markdown",
      "source": [
        "**Splitting of data**"
      ],
      "metadata": {
        "id": "qMwAbE4rpc6C"
      }
    },
    {
      "cell_type": "code",
      "source": [
        "x_train, x_test, y_train, y_test = train_test_split(X,y,test_size = 0.2)\n"
      ],
      "metadata": {
        "id": "DHWWWOYApgLK"
      },
      "execution_count": null,
      "outputs": []
    },
    {
      "cell_type": "markdown",
      "source": [
        "**Scaling of data**"
      ],
      "metadata": {
        "id": "Bldws8OKphuG"
      }
    },
    {
      "cell_type": "code",
      "source": [
        "scaler = StandardScaler()\n",
        "x_train = scaler.fit_transform(x_train)\n",
        "x_test = scaler.transform(x_test)"
      ],
      "metadata": {
        "id": "uukl3jPQpkP0"
      },
      "execution_count": null,
      "outputs": []
    },
    {
      "cell_type": "markdown",
      "source": [
        "# Initializing and fitting the k-NN model by splitting the train data"
      ],
      "metadata": {
        "id": "HlHmunTNpnQ7"
      }
    },
    {
      "cell_type": "markdown",
      "source": [
        "**BY EUCLIDEAN METRIC**"
      ],
      "metadata": {
        "id": "1itx0OLppron"
      }
    },
    {
      "cell_type": "code",
      "source": [
        "for i in [1,2,3,4,5,6,7,8,9,10,20,25,30,35,40,45,50]:\n",
        "  knn = KNeighborsClassifier(i,metric=distance.sqeuclidean) #initialising the model\n",
        "  knn.fit(x_train,y_train) # training the model\n",
        "  print(\"K value  : \" , i, \" score : \", np.mean(cross_val_score(knn, x_train, y_train, cv=4))) #predicting using the model\n"
      ],
      "metadata": {
        "id": "sHB5gDjYpxvj"
      },
      "execution_count": null,
      "outputs": []
    },
    {
      "cell_type": "code",
      "source": [
        "knn = KNeighborsClassifier(n_neighbors=5,metric=distance.sqeuclidean) #it will initialise the model with @neighbours as k \n",
        "knn.fit(x_train, y_train) # train the model\n",
        "print(\"Train Accuracy : \", knn.score(x_train,y_train)) # test the model and it computes the accuracy (train data accuracy)\n",
        "print(\"Val Accuracy : \", np.mean(cross_val_score(knn, x_train, y_train, cv=4)))\n"
      ],
      "metadata": {
        "id": "hHwOiiHNp0I3"
      },
      "execution_count": null,
      "outputs": []
    },
    {
      "cell_type": "markdown",
      "source": [
        "**Test the model using testing data**"
      ],
      "metadata": {
        "id": "pwtmxqenp2Jo"
      }
    },
    {
      "cell_type": "code",
      "source": [
        "df1 = pd.read_csv('/content/testKNN.csv')\n"
      ],
      "metadata": {
        "id": "1hD2KKzQp5xn"
      },
      "execution_count": null,
      "outputs": []
    },
    {
      "cell_type": "code",
      "source": [
        "attributes = ['Id','RI','Na','Mg','Al','Si','K','Ca','Ba','Fe','Type_Of_Glass']\n",
        "df1.columns = attributes\n",
        "df1.head()"
      ],
      "metadata": {
        "id": "ZQXvLoXvqRUi"
      },
      "execution_count": null,
      "outputs": []
    },
    {
      "cell_type": "code",
      "source": [
        "df2=df1.drop(['Id'], axis=1)\n",
        "df2=df2.drop(['Type_Of_Glass'], axis=1)\n",
        "df2.head()"
      ],
      "metadata": {
        "id": "RuM0FWCjqTCv"
      },
      "execution_count": null,
      "outputs": []
    },
    {
      "cell_type": "code",
      "source": [
        "type(df2)"
      ],
      "metadata": {
        "id": "bs40cLR_qUp1"
      },
      "execution_count": null,
      "outputs": []
    },
    {
      "cell_type": "code",
      "source": [
        "x_test\n",
        "type(x_test)"
      ],
      "metadata": {
        "id": "PxVPW-FtqV7n"
      },
      "execution_count": null,
      "outputs": []
    },
    {
      "cell_type": "code",
      "source": [
        "df2"
      ],
      "metadata": {
        "id": "Kkn5Q0bCqaEn"
      },
      "execution_count": null,
      "outputs": []
    },
    {
      "cell_type": "code",
      "source": [
        "df2 = df2.values"
      ],
      "metadata": {
        "id": "Ez-ujvOgqcEl"
      },
      "execution_count": null,
      "outputs": []
    },
    {
      "cell_type": "code",
      "source": [
        "df2"
      ],
      "metadata": {
        "id": "UvIWMtFjqdXp"
      },
      "execution_count": null,
      "outputs": []
    },
    {
      "cell_type": "code",
      "source": [
        "df2_test = scaler.transform(df2)"
      ],
      "metadata": {
        "id": "dh3m2Yj7qfTG"
      },
      "execution_count": null,
      "outputs": []
    },
    {
      "cell_type": "code",
      "source": [
        "results = knn.predict(df2_test)"
      ],
      "metadata": {
        "id": "RfoopRH9qkkT"
      },
      "execution_count": null,
      "outputs": []
    },
    {
      "cell_type": "code",
      "source": [
        "print(results)"
      ],
      "metadata": {
        "id": "4xFlFSbsql-7"
      },
      "execution_count": null,
      "outputs": []
    },
    {
      "cell_type": "code",
      "source": [
        "df1['Type_Of_Glass_pred'] = results"
      ],
      "metadata": {
        "id": "5_2Uo6aaqn5m"
      },
      "execution_count": null,
      "outputs": []
    },
    {
      "cell_type": "code",
      "source": [
        "df1"
      ],
      "metadata": {
        "id": "tOq1w0OkqpQu"
      },
      "execution_count": null,
      "outputs": []
    },
    {
      "cell_type": "markdown",
      "source": [
        "**BY MANHATTAN METRIC**"
      ],
      "metadata": {
        "id": "YJzkKbgfp2C3"
      }
    },
    {
      "cell_type": "code",
      "source": [
        "for i in [1,2,3,4,5,6,7,8,9,10,20,25,30,35,40,45,50]:\n",
        "  knn = KNeighborsClassifier(i,metric=distance.cityblock) #initialising the model\n",
        "  knn.fit(x_train,y_train) # training the model\n",
        "  print(\"K value  : \" , i, \" score : \", np.mean(cross_val_score(knn, x_train, y_train, cv=4))) #predicting using the model\n"
      ],
      "metadata": {
        "id": "HR4WU8Voqwli"
      },
      "execution_count": null,
      "outputs": []
    },
    {
      "cell_type": "code",
      "source": [
        "knn = KNeighborsClassifier(n_neighbors=10,metric=distance.cityblock) #it will initialise the model with @neighbours as k \n",
        "knn.fit(x_train, y_train) # train the model\n",
        "print(\"Train Accuracy : \", knn.score(x_train,y_train)) # test the model and it computes the accuracy (train data accuracy)\n",
        "print(\"Val Accuracy : \", np.mean(cross_val_score(knn, x_train, y_train, cv=4)))\n"
      ],
      "metadata": {
        "id": "HtArWSe_qztv"
      },
      "execution_count": null,
      "outputs": []
    },
    {
      "cell_type": "markdown",
      "source": [
        "69% accuracy in manhattan"
      ],
      "metadata": {
        "id": "rcrawF6_q20b"
      }
    },
    {
      "cell_type": "markdown",
      "source": [
        "**Test the model using testing data**"
      ],
      "metadata": {
        "id": "sU7_Mdgoq4qb"
      }
    },
    {
      "cell_type": "code",
      "source": [
        "df1 = pd.read_csv('/content/testKNN.csv')"
      ],
      "metadata": {
        "id": "rLz_BnO8q4OC"
      },
      "execution_count": null,
      "outputs": []
    },
    {
      "cell_type": "code",
      "source": [
        "attributes = ['Id','RI','Na','Mg','Al','Si','K','Ca','Ba','Fe','Type_Of_Glass']\n",
        "df1.columns = attributes\n",
        "df1.head()"
      ],
      "metadata": {
        "id": "llhbkSqkrEQU"
      },
      "execution_count": null,
      "outputs": []
    },
    {
      "cell_type": "code",
      "source": [
        "attributes = ['Id','RI','Na','Mg','Al','Si','K','Ca','Ba','Fe','Type_Of_Glass']\n",
        "df1.columns = attributes\n",
        "df1.head()"
      ],
      "metadata": {
        "id": "QGbqxgOGrF5V"
      },
      "execution_count": null,
      "outputs": []
    },
    {
      "cell_type": "code",
      "source": [
        "type(df2)"
      ],
      "metadata": {
        "id": "wYfUAZnBrHQx"
      },
      "execution_count": null,
      "outputs": []
    },
    {
      "cell_type": "code",
      "source": [
        "x_test\n",
        "type(x_test)"
      ],
      "metadata": {
        "id": "ZI27YBy5rIqG"
      },
      "execution_count": null,
      "outputs": []
    },
    {
      "cell_type": "code",
      "source": [
        "df2"
      ],
      "metadata": {
        "id": "XGVMipGTrJ63"
      },
      "execution_count": null,
      "outputs": []
    },
    {
      "cell_type": "code",
      "source": [
        "df2 = df2.values"
      ],
      "metadata": {
        "id": "ooGMhvUQrLoe"
      },
      "execution_count": null,
      "outputs": []
    },
    {
      "cell_type": "code",
      "source": [
        "df2"
      ],
      "metadata": {
        "id": "hcuf-vh2rORs"
      },
      "execution_count": null,
      "outputs": []
    },
    {
      "cell_type": "code",
      "source": [
        "df2_test = scaler.transform(df2)"
      ],
      "metadata": {
        "id": "CkQBjEBMrP1v"
      },
      "execution_count": null,
      "outputs": []
    },
    {
      "cell_type": "code",
      "source": [
        "results = knn.predict(df2_test)"
      ],
      "metadata": {
        "id": "nkaZ5n7brRL6"
      },
      "execution_count": null,
      "outputs": []
    },
    {
      "cell_type": "code",
      "source": [
        "print(results)"
      ],
      "metadata": {
        "id": "fLe9y2EHrSPa"
      },
      "execution_count": null,
      "outputs": []
    },
    {
      "cell_type": "code",
      "source": [
        "df1['Type_Of_Glass_pred'] = results"
      ],
      "metadata": {
        "id": "JIK1XnIRrTkw"
      },
      "execution_count": null,
      "outputs": []
    },
    {
      "cell_type": "code",
      "source": [
        "df1"
      ],
      "metadata": {
        "id": "AVkyYaUprUuM"
      },
      "execution_count": null,
      "outputs": []
    },
    {
      "cell_type": "markdown",
      "source": [
        "**initialize and fitting k-NN model without splitting training data and cleaning the outliers from features.**"
      ],
      "metadata": {
        "id": "UE6AqiYTrW_P"
      }
    },
    {
      "cell_type": "code",
      "source": [
        "df.head()"
      ],
      "metadata": {
        "id": "euIc2wi1rgri"
      },
      "execution_count": null,
      "outputs": []
    },
    {
      "cell_type": "code",
      "source": [
        "for k, v in df.items():\n",
        "  q1 = v.quantile(0.25)\n",
        "  q3 = v.quantile(0.75)\n",
        "  irq = q3 - q1\n",
        "  v_col = v[(v <= q1 - 1.5 * irq) | (v >= q3 + 1.5 * irq)]\n",
        "  perc = np.shape(v_col)[0] * 100.0 / np.shape(df)[0]\n",
        "  print(\"Column %s outliers = %.2f%%\" % (k, perc))"
      ],
      "metadata": {
        "id": "YG0flhpIrijk"
      },
      "execution_count": null,
      "outputs": []
    },
    {
      "cell_type": "code",
      "source": [
        "def floorcapping(df):\n",
        "  i = input()\n",
        "  Q1 = df[i].quantile(0.25)\n",
        "  Q3 = df[i].quantile(0.75)\n",
        "  IQR = Q3 - Q1\n",
        "  whisker_width = 1.5\n",
        "  lower_whisker = Q1 -(whisker_width*IQR)\n",
        "  upper_whisker = Q3 + (whisker_width*IQR)\n",
        "  x = ((df[i] < Q1 - whisker_width*IQR) | (df[i] > Q3 + whisker_width*IQR))\n",
        "  x = pd.DataFrame(x) # convert to data frame\n",
        "  # df[x.isin([True])]\n",
        "  substring = 'True'\n",
        "  y= x[x.apply(lambda row: row.astype(str).str.contains(substring, case=False).any(), axis=1)]\n",
        "  if True in y[i].tolist():\n",
        "    df[i]=np.where(df[i]>upper_whisker,upper_whisker,np.where(df[i]<lower_whisker,lower_whisker,df[i])) \n",
        "  # substitute upper and lower whiskes to outliers\n",
        "floorcapping(df)"
      ],
      "metadata": {
        "id": "vfqzzqKIrmxW"
      },
      "execution_count": null,
      "outputs": []
    },
    {
      "cell_type": "code",
      "source": [
        "floorcapping(df)"
      ],
      "metadata": {
        "id": "0oo1z_Jyrpkk"
      },
      "execution_count": null,
      "outputs": []
    },
    {
      "cell_type": "code",
      "source": [
        "floorcapping(df)"
      ],
      "metadata": {
        "id": "Hui-EDecrrPE"
      },
      "execution_count": null,
      "outputs": []
    },
    {
      "cell_type": "code",
      "source": [
        "def outlierpresence(df):\n",
        "  for i in df.keys():\n",
        "    Q1 = df.quantile(0.25)\n",
        "    Q3 = df.quantile(0.75)\n",
        "    IQR = Q3 - Q1\n",
        "    x = (df < (Q1 - 1.5 * IQR)) |(df > (Q3 + 1.5 * IQR))\n",
        "    # df[x.isin([True])]\n",
        "    substring = 'True'\n",
        "    y= x[x.apply(lambda row: row.astype(str).str.contains(substring, case=False).any(), axis=1)] #IT WILL GIVE ALL OUTLIERS IN THE DATAFRAME WITH ALL COLUMNS\n",
        "    if True in y[i].tolist(): #HERE WE CHECK True is in the list of particular column\n",
        "      print('Outliers', '\\033[1m'+ 'present' +'\\033[0m', 'in the data of','\\033[1m' + i + '\\033[0m')\n",
        "      print('-------------------------------')\n",
        "    else:\n",
        "      print('Outliers', '\\033[1m'+ ' not present in the data of' +'\\033[0m', 'in','\\033[1m' + i + '\\033[0m') \n",
        "      print('-------------------------------') \n",
        "outlierpresence(df)"
      ],
      "metadata": {
        "id": "FEYDFSMsrtHl"
      },
      "execution_count": null,
      "outputs": []
    },
    {
      "cell_type": "code",
      "source": [
        "x_train = df.drop(['Type_Of_Glass'], axis=1)\n",
        "x_train = x_train.values\n",
        "x_train"
      ],
      "metadata": {
        "id": "Utq-aWGUrvBL"
      },
      "execution_count": null,
      "outputs": []
    },
    {
      "cell_type": "code",
      "source": [
        "y_train = df['Type_Of_Glass']\n",
        "y_train = y_train.values\n",
        "y_train"
      ],
      "metadata": {
        "id": "6lVoDu3Orwhi"
      },
      "execution_count": null,
      "outputs": []
    },
    {
      "cell_type": "code",
      "source": [
        "scaler = StandardScaler()\n",
        "x_train = scaler.fit_transform(x_train)"
      ],
      "metadata": {
        "id": "bAulqTNJryRF"
      },
      "execution_count": null,
      "outputs": []
    },
    {
      "cell_type": "markdown",
      "source": [
        "**Initializing and fitting the k-NN model**"
      ],
      "metadata": {
        "id": "rdGforCvr0A_"
      }
    },
    {
      "cell_type": "markdown",
      "source": [
        "BY EUCLIDEAN METRIC\n"
      ],
      "metadata": {
        "id": "qcS8lYHdr3FE"
      }
    },
    {
      "cell_type": "code",
      "source": [
        "for i in [1,2,3,4,5,6,7,8,9,10,20,25,30,35,40,45,50]:\n",
        "  knn = KNeighborsClassifier(i,metric=distance.sqeuclidean) #initialising the model\n",
        "  knn.fit(x_train,y_train) # training the model\n",
        "  print(\"K value  : \" , i, \" score : \", np.mean(cross_val_score(knn, x_train, y_train, cv=6))) #predicting using the model\n"
      ],
      "metadata": {
        "id": "R94TJH1Jr6tF"
      },
      "execution_count": null,
      "outputs": []
    },
    {
      "cell_type": "code",
      "source": [
        "knn = KNeighborsClassifier(n_neighbors=6,metric=distance.sqeuclidean) #it will initialise the model with @neighbours as k \n",
        "knn.fit(x_train, y_train) # train the model\n",
        "print(\"Train Accuracy : \", knn.score(x_train,y_train)) # test the model and it computes the accuracy (train data accuracy)\n",
        "print(\"Val Accuracy : \", np.mean(cross_val_score(knn, x_train, y_train, cv=6)))\n"
      ],
      "metadata": {
        "id": "zYmAXRk0r88B"
      },
      "execution_count": null,
      "outputs": []
    },
    {
      "cell_type": "markdown",
      "source": [
        "67% accuracy in Euclidean metric."
      ],
      "metadata": {
        "id": "dyPmj7rPr-hF"
      }
    },
    {
      "cell_type": "markdown",
      "source": [
        "**Test the model using testing data**"
      ],
      "metadata": {
        "id": "gQRkMJKBsARV"
      }
    },
    {
      "cell_type": "code",
      "source": [
        "df1 = pd.read_csv('/content/testKNN.csv')"
      ],
      "metadata": {
        "id": "jCtJL2JCr_6q"
      },
      "execution_count": null,
      "outputs": []
    },
    {
      "cell_type": "code",
      "source": [
        "attributes = ['Id','RI','Na','Mg','Al','Si','K','Ca','Ba','Fe','Type_Of_Glass']\n",
        "df1.columns = attributes\n",
        "df1.head()\n"
      ],
      "metadata": {
        "id": "79d46k-SsLDQ"
      },
      "execution_count": null,
      "outputs": []
    },
    {
      "cell_type": "code",
      "source": [
        "df2=df1.drop(['Id'], axis=1)\n",
        "df2=df2.drop(['Type_Of_Glass'], axis=1)\n",
        "df2.head()"
      ],
      "metadata": {
        "id": "8KCvyXMlsMcc"
      },
      "execution_count": null,
      "outputs": []
    },
    {
      "cell_type": "code",
      "source": [
        "type(df2)"
      ],
      "metadata": {
        "id": "Fd-CcK5esOP2"
      },
      "execution_count": null,
      "outputs": []
    },
    {
      "cell_type": "code",
      "source": [
        "x_test\n",
        "type(x_test)"
      ],
      "metadata": {
        "id": "8CeDPKposPk9"
      },
      "execution_count": null,
      "outputs": []
    },
    {
      "cell_type": "code",
      "source": [
        "df2"
      ],
      "metadata": {
        "id": "OlaIu6khsRB6"
      },
      "execution_count": null,
      "outputs": []
    },
    {
      "cell_type": "code",
      "source": [
        "df2 = df2.values"
      ],
      "metadata": {
        "id": "Db8HdwUvsUUl"
      },
      "execution_count": null,
      "outputs": []
    },
    {
      "cell_type": "code",
      "source": [
        "df2"
      ],
      "metadata": {
        "id": "JGUKUQ6jsVgZ"
      },
      "execution_count": null,
      "outputs": []
    },
    {
      "cell_type": "code",
      "source": [
        "df2_test = scaler.transform(df2)"
      ],
      "metadata": {
        "id": "uzp1_mG5sXSY"
      },
      "execution_count": null,
      "outputs": []
    },
    {
      "cell_type": "code",
      "source": [
        "results = knn.predict(df2_test)"
      ],
      "metadata": {
        "id": "KSD6m9eDsY1y"
      },
      "execution_count": null,
      "outputs": []
    },
    {
      "cell_type": "code",
      "source": [
        "print(results)"
      ],
      "metadata": {
        "id": "0t-F73y8sZ6o"
      },
      "execution_count": null,
      "outputs": []
    },
    {
      "cell_type": "code",
      "source": [
        "df1['Type_Of_Glass_pred'] = results"
      ],
      "metadata": {
        "id": "aOA0-RgSsbUE"
      },
      "execution_count": null,
      "outputs": []
    },
    {
      "cell_type": "code",
      "source": [
        "df1"
      ],
      "metadata": {
        "id": "UDNR1SEbscT_"
      },
      "execution_count": null,
      "outputs": []
    },
    {
      "cell_type": "markdown",
      "source": [
        "# BY MANHATTAN METRIC"
      ],
      "metadata": {
        "id": "hpfaaWOFseST"
      }
    },
    {
      "cell_type": "code",
      "source": [
        "for i in [1,2,3,4,5,6,7,8,9,10,20,25,30,35,40,45,50]:\n",
        "  knn = KNeighborsClassifier(i,metric=distance.cityblock) #initialising the model\n",
        "  knn.fit(x_train,y_train) # training the model\n",
        "  print(\"K value  : \" , i, \" score : \", np.mean(cross_val_score(knn, x_train, y_train, cv=6))) #predicting using the model\n"
      ],
      "metadata": {
        "id": "VvrtZW36shR4"
      },
      "execution_count": null,
      "outputs": []
    },
    {
      "cell_type": "code",
      "source": [
        "knn = KNeighborsClassifier(n_neighbors=8,metric=distance.cityblock) #it will initialise the model with @neighbours as k \n",
        "knn.fit(x_train, y_train) # train the model\n",
        "print(\"Train Accuracy : \", knn.score(x_train,y_train)) # test the model and it computes the accuracy (train data accuracy)\n",
        "print(\"Val Accuracy : \", np.mean(cross_val_score(knn, x_train, y_train, cv=6)))\n"
      ],
      "metadata": {
        "id": "IH7uuHVtsjbM"
      },
      "execution_count": null,
      "outputs": []
    },
    {
      "cell_type": "markdown",
      "source": [
        "68% in Manhattan metric."
      ],
      "metadata": {
        "id": "lDytsPsZsk8o"
      }
    },
    {
      "cell_type": "markdown",
      "source": [
        "**Test the model using testing data**"
      ],
      "metadata": {
        "id": "d7-xNneUsnQC"
      }
    },
    {
      "cell_type": "code",
      "source": [
        "df1 = pd.read_csv('/content/testKNN.csv')"
      ],
      "metadata": {
        "id": "09IeLjebsuGP"
      },
      "execution_count": null,
      "outputs": []
    },
    {
      "cell_type": "code",
      "source": [
        "attributes = ['Id','RI','Na','Mg','Al','Si','K','Ca','Ba','Fe','Type_Of_Glass']\n",
        "df1.columns = attributes\n",
        "df1.head()"
      ],
      "metadata": {
        "id": "rwgKnjt_s0ua"
      },
      "execution_count": null,
      "outputs": []
    },
    {
      "cell_type": "code",
      "source": [
        "df2=df1.drop(['Id'], axis=1)\n",
        "df2=df2.drop(['Type_Of_Glass'], axis=1)\n",
        "df2.head()"
      ],
      "metadata": {
        "id": "TLa8vLwBs2ij"
      },
      "execution_count": null,
      "outputs": []
    },
    {
      "cell_type": "code",
      "source": [
        "type(df2)"
      ],
      "metadata": {
        "id": "VS8ZRhzYs36D"
      },
      "execution_count": null,
      "outputs": []
    },
    {
      "cell_type": "code",
      "source": [
        "x_test\n",
        "type(x_test)"
      ],
      "metadata": {
        "id": "OIntyr7qs5D4"
      },
      "execution_count": null,
      "outputs": []
    },
    {
      "cell_type": "code",
      "source": [
        "df2"
      ],
      "metadata": {
        "id": "C0MwUWr2s6y8"
      },
      "execution_count": null,
      "outputs": []
    },
    {
      "cell_type": "code",
      "source": [
        "df2 = df2.values"
      ],
      "metadata": {
        "id": "FD3fd6Ews-P0"
      },
      "execution_count": null,
      "outputs": []
    },
    {
      "cell_type": "code",
      "source": [
        "df2"
      ],
      "metadata": {
        "id": "sM61Qw9PtHqJ"
      },
      "execution_count": null,
      "outputs": []
    },
    {
      "cell_type": "code",
      "source": [
        "df2_test = scaler.transform(df2)"
      ],
      "metadata": {
        "id": "h2wrk2PatOVu"
      },
      "execution_count": null,
      "outputs": []
    },
    {
      "cell_type": "code",
      "source": [
        "results = knn.predict(df2_test)"
      ],
      "metadata": {
        "id": "MEwuAKaZtPph"
      },
      "execution_count": null,
      "outputs": []
    },
    {
      "cell_type": "code",
      "source": [
        "print(results)"
      ],
      "metadata": {
        "id": "RwTEjenrtQux"
      },
      "execution_count": null,
      "outputs": []
    },
    {
      "cell_type": "code",
      "source": [
        "df1['Type_Of_Glass_pred'] = results"
      ],
      "metadata": {
        "id": "NfpIL5zNtSbc"
      },
      "execution_count": null,
      "outputs": []
    },
    {
      "cell_type": "code",
      "source": [
        "df1"
      ],
      "metadata": {
        "id": "n2nMqXNbtVOT"
      },
      "execution_count": null,
      "outputs": []
    },
    {
      "cell_type": "markdown",
      "source": [
        "# Conclusions"
      ],
      "metadata": {
        "id": "1lSNOORptZ9l"
      }
    },
    {
      "cell_type": "markdown",
      "source": [
        "I experimented the given data in two ways,\n",
        "\n",
        "Initialize and fitting k-NN model by splitting training data\n",
        "\n",
        "By using Euclidean metric :- 68%\n",
        "By using Manhattan metric :- 69%\n",
        "Again initialize and fitting k-NN model by without splitting training data and Clean the outliers from the features\n",
        "\n",
        "By using Euclidean metric :- 67%\n",
        "By using Manhattan metric :- 68%\n",
        "In all of the above models they did't predict the glasses in 3rd and 4th class."
      ],
      "metadata": {
        "id": "GJx4W8KrtfOX"
      }
    }
  ]
}